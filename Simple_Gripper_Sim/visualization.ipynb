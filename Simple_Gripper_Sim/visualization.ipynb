{
 "cells": [
  {
   "cell_type": "code",
   "execution_count": 1,
   "metadata": {},
   "outputs": [],
   "source": [
    "import numpy as np\n",
    "import matplotlib.pyplot as plt\n",
    "from matplotlib.animation import FuncAnimation\n",
    "import time\n",
    "import sys\n",
    "sys.path.append(\"C:\\\\Users\\\\alicl\\\\Documents\\\\GitHub\\\\SDM-Project\\\\mcts\")\n",
    "\n",
    "from main import MCTS\n",
    "from gripper import Gripper"
   ]
  },
  {
   "cell_type": "code",
   "execution_count": 2,
   "metadata": {},
   "outputs": [],
   "source": [
    "# helper functions to plot gripper geometry\n",
    "def plot_one_link(ax, link):\n",
    "    x = link[0]\n",
    "    y = link[1]\n",
    "    ax.plot(x, y)\n",
    "    \n",
    "def plot_gripper(ax, link_array):\n",
    "    for link in link_array:\n",
    "        plot_one_link(ax, link)"
   ]
  },
  {
   "cell_type": "code",
   "execution_count": 3,
   "metadata": {},
   "outputs": [],
   "source": [
    "# initialize varying values of theta\n",
    "pinch_start = (np.deg2rad(50), 0, 0)\n",
    "pinch_goal = (np.deg2rad(85), np.deg2rad(25), np.deg2rad(20))\n",
    "wrap_start = (np.deg2rad(30), 0, 0)\n",
    "wrap_goal = (np.deg2rad(60), np.deg2rad(40), np.deg2rad(25))"
   ]
  },
  {
   "cell_type": "code",
   "execution_count": 20,
   "metadata": {},
   "outputs": [
    {
     "name": "stdout",
     "output_type": "stream",
     "text": [
      "Pinch grasp, start [50.  0.  0.], end goal [85. 25. 20.]\n",
      "Running mcts...\n",
      "Found goal in 14.888071537017822 seconds\n",
      "Running mcts...\n",
      "Found goal in 18.17380690574646 seconds\n",
      "Running mcts...\n",
      "Found goal in 20.42236089706421 seconds\n",
      "Running mcts...\n",
      "Found goal in 17.03868007659912 seconds\n",
      "Running mcts...\n",
      "Found goal in 16.479369401931763 seconds\n",
      "Running mcts...\n",
      "Found goal in 17.54686188697815 seconds\n",
      "Running mcts...\n",
      "Found goal in 15.91897463798523 seconds\n",
      "Running mcts...\n",
      "Found goal in 15.964978456497192 seconds\n",
      "Running mcts...\n",
      "Found goal in 18.08962345123291 seconds\n",
      "Running mcts...\n",
      "Found goal in 19.500035524368286 seconds\n"
     ]
    }
   ],
   "source": [
    "# finding average time and cost\n",
    "time_history = []\n",
    "cost_history = []\n",
    "print(f\"Pinch grasp, start {np.rad2deg(pinch_start)}, end goal {np.rad2deg(pinch_goal)}\")\n",
    "for i in range(10):\n",
    "    print(\"Running mcts...\")\n",
    "    start = time.time()\n",
    "    mcts = MCTS(start_pos=pinch_start, goal_pos=pinch_goal)\n",
    "    mcts.main()\n",
    "    end = time.time()\n",
    "    print(f\"Found goal in {end-start} seconds\")\n",
    "    \n",
    "    time_history.append(end-start)\n",
    "    cost = mcts.start_node.real_cost\n",
    "    cost_history.append(cost)\n",
    "    \n",
    "\n",
    "# angles = mcts.angle_path\n",
    "# controls = mcts.control_path\n",
    "# cost = mcts.cost_path\n",
    "\n"
   ]
  },
  {
   "cell_type": "code",
   "execution_count": 22,
   "metadata": {},
   "outputs": [
    {
     "name": "stdout",
     "output_type": "stream",
     "text": [
      "17.402276277542114 153.4156953116294\n",
      "1.6180639409049697 6.64584675274078\n"
     ]
    }
   ],
   "source": [
    "avg_time = np.mean(time_history)\n",
    "avg_cost = np.mean(cost_history)\n",
    "\n",
    "print(avg_time, avg_cost)\n",
    "print(np.std(time_history), np.std(cost_history))"
   ]
  },
  {
   "cell_type": "code",
   "execution_count": 24,
   "metadata": {},
   "outputs": [],
   "source": [
    "starting_proximal_pressures = [(np.deg2rad(25)), (np.deg2rad(30)), (np.deg2rad(35)), (np.deg2rad(40)),\n",
    "                               (np.deg2rad(45)), (np.deg2rad(50)), (np.deg2rad(55)), (np.deg2rad(60))]\n",
    "\n",
    "starting_pressures = [(np.deg2rad(25), 0, 0), (np.deg2rad(30), 0, 0), (np.deg2rad(35), 0, 0), (np.deg2rad(40), 0, 0), \n",
    "                      (np.deg2rad(45), 0, 0), (np.deg2rad(50), 0, 0), (np.deg2rad(55), 0, 0), (np.deg2rad(60), 0, 0)]"
   ]
  },
  {
   "cell_type": "code",
   "execution_count": 29,
   "metadata": {},
   "outputs": [
    {
     "name": "stdout",
     "output_type": "stream",
     "text": [
      "Pinch grasp, start [25.  0.  0.], end goal [85. 25. 20.]\n",
      "Running mcts...\n"
     ]
    },
    {
     "ename": "KeyboardInterrupt",
     "evalue": "",
     "output_type": "error",
     "traceback": [
      "\u001b[1;31m---------------------------------------------------------------------------\u001b[0m",
      "\u001b[1;31mKeyboardInterrupt\u001b[0m                         Traceback (most recent call last)",
      "\u001b[1;32m~\\AppData\\Local\\Temp/ipykernel_13276/1092379024.py\u001b[0m in \u001b[0;36m<module>\u001b[1;34m\u001b[0m\n\u001b[0;32m      7\u001b[0m     \u001b[0mstart\u001b[0m \u001b[1;33m=\u001b[0m \u001b[0mtime\u001b[0m\u001b[1;33m.\u001b[0m\u001b[0mtime\u001b[0m\u001b[1;33m(\u001b[0m\u001b[1;33m)\u001b[0m\u001b[1;33m\u001b[0m\u001b[1;33m\u001b[0m\u001b[0m\n\u001b[0;32m      8\u001b[0m     \u001b[0mmcts\u001b[0m \u001b[1;33m=\u001b[0m \u001b[0mMCTS\u001b[0m\u001b[1;33m(\u001b[0m\u001b[0mstart_pos\u001b[0m\u001b[1;33m=\u001b[0m\u001b[0mstart_pressure\u001b[0m\u001b[1;33m,\u001b[0m \u001b[0mgoal_pos\u001b[0m\u001b[1;33m=\u001b[0m\u001b[0mpinch_goal\u001b[0m\u001b[1;33m)\u001b[0m\u001b[1;33m\u001b[0m\u001b[1;33m\u001b[0m\u001b[0m\n\u001b[1;32m----> 9\u001b[1;33m     \u001b[0mmcts\u001b[0m\u001b[1;33m.\u001b[0m\u001b[0mmain\u001b[0m\u001b[1;33m(\u001b[0m\u001b[1;33m)\u001b[0m\u001b[1;33m\u001b[0m\u001b[1;33m\u001b[0m\u001b[0m\n\u001b[0m\u001b[0;32m     10\u001b[0m     \u001b[0mend\u001b[0m \u001b[1;33m=\u001b[0m \u001b[0mtime\u001b[0m\u001b[1;33m.\u001b[0m\u001b[0mtime\u001b[0m\u001b[1;33m(\u001b[0m\u001b[1;33m)\u001b[0m\u001b[1;33m\u001b[0m\u001b[1;33m\u001b[0m\u001b[0m\n\u001b[0;32m     11\u001b[0m     \u001b[0mprint\u001b[0m\u001b[1;33m(\u001b[0m\u001b[1;34mf\"Found goal in {end-start} seconds\"\u001b[0m\u001b[1;33m)\u001b[0m\u001b[1;33m\u001b[0m\u001b[1;33m\u001b[0m\u001b[0m\n",
      "\u001b[1;32m~\\Documents\\GitHub\\SDM-Project\\mcts\\main.py\u001b[0m in \u001b[0;36mmain\u001b[1;34m(self)\u001b[0m\n\u001b[0;32m    153\u001b[0m         \u001b[1;32mfor\u001b[0m \u001b[0mi\u001b[0m \u001b[1;32min\u001b[0m \u001b[0mrange\u001b[0m\u001b[1;33m(\u001b[0m\u001b[1;36m200\u001b[0m\u001b[1;33m)\u001b[0m\u001b[1;33m:\u001b[0m\u001b[1;33m\u001b[0m\u001b[1;33m\u001b[0m\u001b[0m\n\u001b[0;32m    154\u001b[0m             \u001b[1;31m# print(self.start_node, self.start_node.real_cost, np.rad2deg(self.start_node.state.get_theta()))\u001b[0m\u001b[1;33m\u001b[0m\u001b[1;33m\u001b[0m\u001b[0m\n\u001b[1;32m--> 155\u001b[1;33m             \u001b[0mrun_param\u001b[0m \u001b[1;33m=\u001b[0m \u001b[1;36m10\u001b[0m\u001b[1;33m\u001b[0m\u001b[1;33m\u001b[0m\u001b[0m\n\u001b[0m\u001b[0;32m    156\u001b[0m             \u001b[1;32mfor\u001b[0m \u001b[0m_\u001b[0m \u001b[1;32min\u001b[0m \u001b[0mrange\u001b[0m\u001b[1;33m(\u001b[0m\u001b[0mrun_param\u001b[0m\u001b[1;33m)\u001b[0m\u001b[1;33m:\u001b[0m\u001b[1;33m\u001b[0m\u001b[1;33m\u001b[0m\u001b[0m\n\u001b[0;32m    157\u001b[0m                 \u001b[0mexpanded_node\u001b[0m \u001b[1;33m=\u001b[0m \u001b[0mself\u001b[0m\u001b[1;33m.\u001b[0m\u001b[0mselect_and_expand\u001b[0m\u001b[1;33m(\u001b[0m\u001b[1;33m)\u001b[0m\u001b[1;33m\u001b[0m\u001b[1;33m\u001b[0m\u001b[0m\n",
      "\u001b[1;32m~\\Documents\\GitHub\\SDM-Project\\mcts\\main.py\u001b[0m in \u001b[0;36msimulate\u001b[1;34m(self, node)\u001b[0m\n\u001b[0;32m     72\u001b[0m         \u001b[0msimulation_limit\u001b[0m \u001b[1;33m=\u001b[0m \u001b[1;36m100\u001b[0m\u001b[1;33m\u001b[0m\u001b[1;33m\u001b[0m\u001b[0m\n\u001b[0;32m     73\u001b[0m         \u001b[0msteps\u001b[0m \u001b[1;33m=\u001b[0m \u001b[1;36m0\u001b[0m\u001b[1;33m\u001b[0m\u001b[1;33m\u001b[0m\u001b[0m\n\u001b[1;32m---> 74\u001b[1;33m         \u001b[1;32mwhile\u001b[0m \u001b[0mself\u001b[0m\u001b[1;33m.\u001b[0m\u001b[0mreached_goal\u001b[0m\u001b[1;33m(\u001b[0m\u001b[0mcurrent_hallucinated_state\u001b[0m\u001b[1;33m)\u001b[0m \u001b[1;32mis\u001b[0m \u001b[1;32mFalse\u001b[0m \u001b[1;32mand\u001b[0m \u001b[0msteps\u001b[0m \u001b[1;33m<=\u001b[0m \u001b[0msimulation_limit\u001b[0m\u001b[1;33m:\u001b[0m\u001b[1;33m\u001b[0m\u001b[1;33m\u001b[0m\u001b[0m\n\u001b[0m\u001b[0;32m     75\u001b[0m             \u001b[0mnew_state\u001b[0m \u001b[1;33m=\u001b[0m \u001b[0mself\u001b[0m\u001b[1;33m.\u001b[0m\u001b[0mgreedy_simulation\u001b[0m\u001b[1;33m(\u001b[0m\u001b[0mcurrent_hallucinated_state\u001b[0m\u001b[1;33m)\u001b[0m\u001b[1;33m\u001b[0m\u001b[1;33m\u001b[0m\u001b[0m\n\u001b[0;32m     76\u001b[0m             \u001b[0mcost\u001b[0m \u001b[1;33m+=\u001b[0m \u001b[0mself\u001b[0m\u001b[1;33m.\u001b[0m\u001b[0mget_cost\u001b[0m\u001b[1;33m(\u001b[0m\u001b[0mcurrent_hallucinated_state\u001b[0m\u001b[1;33m,\u001b[0m \u001b[0mnew_state\u001b[0m\u001b[1;33m)\u001b[0m\u001b[1;33m\u001b[0m\u001b[1;33m\u001b[0m\u001b[0m\n",
      "\u001b[1;32m~\\Documents\\GitHub\\SDM-Project\\mcts\\main.py\u001b[0m in \u001b[0;36mgreedy_simulation\u001b[1;34m(self, state)\u001b[0m\n\u001b[0;32m    117\u001b[0m         \u001b[0mneighbors\u001b[0m \u001b[1;33m=\u001b[0m \u001b[0mself\u001b[0m\u001b[1;33m.\u001b[0m\u001b[0mss\u001b[0m\u001b[1;33m.\u001b[0m\u001b[0mget_neighbors\u001b[0m\u001b[1;33m(\u001b[0m\u001b[0mstate\u001b[0m\u001b[1;33m)\u001b[0m\u001b[1;33m\u001b[0m\u001b[1;33m\u001b[0m\u001b[0m\n\u001b[0;32m    118\u001b[0m         \u001b[0mdistances\u001b[0m \u001b[1;33m=\u001b[0m \u001b[1;33m[\u001b[0m\u001b[1;33m]\u001b[0m\u001b[1;33m\u001b[0m\u001b[1;33m\u001b[0m\u001b[0m\n\u001b[1;32m--> 119\u001b[1;33m         \u001b[1;32mfor\u001b[0m \u001b[0mneighbor\u001b[0m \u001b[1;32min\u001b[0m \u001b[0mneighbors\u001b[0m\u001b[1;33m:\u001b[0m\u001b[1;33m\u001b[0m\u001b[1;33m\u001b[0m\u001b[0m\n\u001b[0m\u001b[0;32m    120\u001b[0m             \u001b[0mdistance\u001b[0m \u001b[1;33m=\u001b[0m \u001b[0mself\u001b[0m\u001b[1;33m.\u001b[0m\u001b[0meuclidian_distance\u001b[0m\u001b[1;33m(\u001b[0m\u001b[0mself\u001b[0m\u001b[1;33m.\u001b[0m\u001b[0mgoal_pos\u001b[0m\u001b[1;33m,\u001b[0m \u001b[0mneighbor\u001b[0m\u001b[1;33m[\u001b[0m\u001b[1;36m0\u001b[0m\u001b[1;33m]\u001b[0m\u001b[1;33m.\u001b[0m\u001b[0mget_theta\u001b[0m\u001b[1;33m(\u001b[0m\u001b[1;33m)\u001b[0m\u001b[1;33m)\u001b[0m\u001b[1;33m\u001b[0m\u001b[1;33m\u001b[0m\u001b[0m\n\u001b[0;32m    121\u001b[0m             \u001b[0mdistances\u001b[0m\u001b[1;33m.\u001b[0m\u001b[0mappend\u001b[0m\u001b[1;33m(\u001b[0m\u001b[0mdistance\u001b[0m\u001b[1;33m)\u001b[0m\u001b[1;33m\u001b[0m\u001b[1;33m\u001b[0m\u001b[0m\n",
      "\u001b[1;32m~\\Documents\\GitHub\\SDM-Project\\mcts\\main.py\u001b[0m in \u001b[0;36meuclidian_distance\u001b[1;34m(self, state_1, state_2)\u001b[0m\n\u001b[0;32m    101\u001b[0m         \u001b[1;34m\"\"\"Calculates the euclidian distance between two states\"\"\"\u001b[0m\u001b[1;33m\u001b[0m\u001b[1;33m\u001b[0m\u001b[0m\n\u001b[0;32m    102\u001b[0m         \u001b[0mstate_1\u001b[0m \u001b[1;33m=\u001b[0m \u001b[0mnp\u001b[0m\u001b[1;33m.\u001b[0m\u001b[0marray\u001b[0m\u001b[1;33m(\u001b[0m\u001b[0mstate_1\u001b[0m\u001b[1;33m)\u001b[0m\u001b[1;33m\u001b[0m\u001b[1;33m\u001b[0m\u001b[0m\n\u001b[1;32m--> 103\u001b[1;33m         \u001b[0mstate_2\u001b[0m \u001b[1;33m=\u001b[0m \u001b[0mnp\u001b[0m\u001b[1;33m.\u001b[0m\u001b[0marray\u001b[0m\u001b[1;33m(\u001b[0m\u001b[0mstate_2\u001b[0m\u001b[1;33m)\u001b[0m\u001b[1;33m\u001b[0m\u001b[1;33m\u001b[0m\u001b[0m\n\u001b[0m\u001b[0;32m    104\u001b[0m         \u001b[1;32mreturn\u001b[0m \u001b[0mnp\u001b[0m\u001b[1;33m.\u001b[0m\u001b[0mlinalg\u001b[0m\u001b[1;33m.\u001b[0m\u001b[0mnorm\u001b[0m\u001b[1;33m(\u001b[0m\u001b[0mstate_1\u001b[0m \u001b[1;33m-\u001b[0m \u001b[0mstate_2\u001b[0m\u001b[1;33m)\u001b[0m\u001b[1;33m\u001b[0m\u001b[1;33m\u001b[0m\u001b[0m\n\u001b[0;32m    105\u001b[0m \u001b[1;33m\u001b[0m\u001b[0m\n",
      "\u001b[1;32m<__array_function__ internals>\u001b[0m in \u001b[0;36mnorm\u001b[1;34m(*args, **kwargs)\u001b[0m\n",
      "\u001b[1;32mc:\\Users\\alicl\\AppData\\Local\\Programs\\Python\\Python39\\lib\\site-packages\\numpy\\linalg\\linalg.py\u001b[0m in \u001b[0;36mnorm\u001b[1;34m(x, ord, axis, keepdims)\u001b[0m\n\u001b[0;32m   2528\u001b[0m                 \u001b[0msqnorm\u001b[0m \u001b[1;33m=\u001b[0m \u001b[0mdot\u001b[0m\u001b[1;33m(\u001b[0m\u001b[0mx\u001b[0m\u001b[1;33m.\u001b[0m\u001b[0mreal\u001b[0m\u001b[1;33m,\u001b[0m \u001b[0mx\u001b[0m\u001b[1;33m.\u001b[0m\u001b[0mreal\u001b[0m\u001b[1;33m)\u001b[0m \u001b[1;33m+\u001b[0m \u001b[0mdot\u001b[0m\u001b[1;33m(\u001b[0m\u001b[0mx\u001b[0m\u001b[1;33m.\u001b[0m\u001b[0mimag\u001b[0m\u001b[1;33m,\u001b[0m \u001b[0mx\u001b[0m\u001b[1;33m.\u001b[0m\u001b[0mimag\u001b[0m\u001b[1;33m)\u001b[0m\u001b[1;33m\u001b[0m\u001b[1;33m\u001b[0m\u001b[0m\n\u001b[0;32m   2529\u001b[0m             \u001b[1;32melse\u001b[0m\u001b[1;33m:\u001b[0m\u001b[1;33m\u001b[0m\u001b[1;33m\u001b[0m\u001b[0m\n\u001b[1;32m-> 2530\u001b[1;33m                 \u001b[0msqnorm\u001b[0m \u001b[1;33m=\u001b[0m \u001b[0mdot\u001b[0m\u001b[1;33m(\u001b[0m\u001b[0mx\u001b[0m\u001b[1;33m,\u001b[0m \u001b[0mx\u001b[0m\u001b[1;33m)\u001b[0m\u001b[1;33m\u001b[0m\u001b[1;33m\u001b[0m\u001b[0m\n\u001b[0m\u001b[0;32m   2531\u001b[0m             \u001b[0mret\u001b[0m \u001b[1;33m=\u001b[0m \u001b[0msqrt\u001b[0m\u001b[1;33m(\u001b[0m\u001b[0msqnorm\u001b[0m\u001b[1;33m)\u001b[0m\u001b[1;33m\u001b[0m\u001b[1;33m\u001b[0m\u001b[0m\n\u001b[0;32m   2532\u001b[0m             \u001b[1;32mif\u001b[0m \u001b[0mkeepdims\u001b[0m\u001b[1;33m:\u001b[0m\u001b[1;33m\u001b[0m\u001b[1;33m\u001b[0m\u001b[0m\n",
      "\u001b[1;32m<__array_function__ internals>\u001b[0m in \u001b[0;36mdot\u001b[1;34m(*args, **kwargs)\u001b[0m\n",
      "\u001b[1;31mKeyboardInterrupt\u001b[0m: "
     ]
    }
   ],
   "source": [
    "# plotting time and cost vs proximal joint starting pressure\n",
    "pinch_times = []\n",
    "pinch_costs = []\n",
    "for i, start_pressure in enumerate(starting_pressures):\n",
    "    print(f\"Pinch grasp, start {np.rad2deg(start_pressure)}, end goal {np.rad2deg(pinch_goal)}\")\n",
    "    print(\"Running mcts...\")\n",
    "    start = time.time()\n",
    "    mcts = MCTS(start_pos=start_pressure, goal_pos=pinch_goal)\n",
    "    mcts.main()\n",
    "    end = time.time()\n",
    "    print(f\"Found goal in {end-start} seconds\")\n",
    "    \n",
    "    pinch_times.append(end-start)\n",
    "    cost = mcts.start_node.real_cost\n",
    "    pinch_costs.append(cost)"
   ]
  },
  {
   "cell_type": "code",
   "execution_count": null,
   "metadata": {},
   "outputs": [],
   "source": [
    "plt.style.use('seaborn')\n",
    "fig, ax = plt.subplots(1,2)\n",
    "\n",
    "ax[0].plot(starting_proximal_pressures, pinch_times)\n",
    "\n",
    "ax[1].plot(starting_proximal_pressures, pinch_costs)"
   ]
  },
  {
   "cell_type": "code",
   "execution_count": 5,
   "metadata": {},
   "outputs": [],
   "source": [
    "# parse vars \n",
    "\n",
    "theta_1 = []\n",
    "theta_2 = []\n",
    "theta_3 = []\n",
    "for angle_set in angles:\n",
    "    theta_1.append(angle_set[0])\n",
    "    theta_2.append(angle_set[1])\n",
    "    theta_3.append(angle_set[2])\n",
    "\n",
    "for _ in range(10):\n",
    "    theta_1.append(theta_1[-1])\n",
    "    theta_2.append(theta_2[-1])\n",
    "    theta_3.append(theta_3[-1])\n",
    "\n",
    "p1 = []\n",
    "p2 = []\n",
    "p3 = []\n",
    "fa = []\n",
    "for control_var in controls:\n",
    "    p1.append(control_var[0])\n",
    "    p2.append(control_var[1])\n",
    "    p3.append(control_var[2])\n",
    "    fa.append(control_var[3])"
   ]
  },
  {
   "cell_type": "code",
   "execution_count": 14,
   "metadata": {},
   "outputs": [
    {
     "data": {
      "image/png": "[encoded data removed]",
      "text/plain": [
       "<Figure size 432x288 with 1 Axes>"
      ]
     },
     "metadata": {
      "needs_background": "light"
     },
     "output_type": "display_data"
    }
   ],
   "source": [
    "# animate the gripper \n",
    "\n",
    "fig, ax = plt.subplots()\n",
    "# function that draws each frame of the animation\n",
    "def animate(i):\n",
    "    ax.clear()\n",
    "    grp = Gripper(angles=[theta_1[i], theta_2[i], theta_3[i]])\n",
    "    grp.create_gripper()\n",
    "    plot_gripper(ax, grp.link_array)\n",
    "    ax.set_xlim(-8,8)\n",
    "    ax.set_ylim(-1,7)\n",
    "    ax.set_aspect('equal')\n",
    "    goal_display = np.round(np.rad2deg(wrap_goal))\n",
    "    ax.set_title(f\"Wrap Grasp: Goal Pos {goal_display} deg\")\n",
    "\n",
    "# run the animation\n",
    "ani = FuncAnimation(fig, animate, len(theta_1))\n",
    "# ani.save('gifs/wrap_wide1.gif', writer='imagemagick', fps=60)"
   ]
  },
  {
   "cell_type": "code",
   "execution_count": 16,
   "metadata": {},
   "outputs": [
    {
     "name": "stderr",
     "output_type": "stream",
     "text": [
      "C:\\Users\\alicl\\AppData\\Local\\Temp/ipykernel_13276/403586041.py:7: MatplotlibDeprecationWarning: Passing the pad parameter of tight_layout() positionally is deprecated since Matplotlib 3.3; the parameter will become keyword-only two minor releases later.\n",
      "  plt.tight_layout(0.1)\n"
     ]
    },
    {
     "data": {
      "image/png": "[encoded data removed]",
      "text/plain": [
       "<Figure size 576x396 with 4 Axes>"
      ]
     },
     "metadata": {},
     "output_type": "display_data"
    }
   ],
   "source": [
    "# plot the control variables \n",
    "\n",
    "iterations = np.arange(0, len(p1), 1)\n",
    "\n",
    "plt.style.use('seaborn')\n",
    "fig, ax = plt.subplots(1,4)\n",
    "plt.tight_layout(0.1)\n",
    "\n",
    "ax[0].plot(iterations, p1)\n",
    "ax[0].set_xlabel(\"Step\")\n",
    "ax[0].set_ylabel(\"Pressure (PSI)\")\n",
    "ax[0].set_title(\"Proximal Joint Pressure\")\n",
    "\n",
    "ax[1].plot(iterations, p2)\n",
    "ax[1].set_xlabel(\"Step\")\n",
    "ax[1].set_ylabel(\"Pressure (PSI)\")\n",
    "ax[1].set_title(\"Middle Joint Pressure\")\n",
    "\n",
    "ax[2].plot(iterations, p3)\n",
    "ax[2].set_xlabel(\"Step\")\n",
    "ax[2].set_ylabel(\"Pressure (PSI)\")\n",
    "ax[2].set_title(\"Distal Joint Pressure\")\n",
    "\n",
    "ax[3].plot(iterations, fa)\n",
    "ax[3].set_xlabel(\"Step\")\n",
    "ax[3].set_ylabel(\"Tendion Tension (10^-2 N)\")\n",
    "ax[3].set_title(\"Tendon Tension\")\n",
    "\n",
    "plt.suptitle(\"MCTS-Generated Control Variables for Wrap Grasp\")\n",
    "\n",
    "plt.show()"
   ]
  },
  {
   "cell_type": "code",
   "execution_count": null,
   "metadata": {},
   "outputs": [],
   "source": [
    "# plot cost vs time"
   ]
  }
 ],
 "metadata": {
  "kernelspec": {
   "display_name": "Python 3",
   "language": "python",
   "name": "python3"
  },
  "language_info": {
   "codemirror_mode": {
    "name": "ipython",
    "version": 3
   },
   "file_extension": ".py",
   "mimetype": "text/x-python",
   "name": "python",
   "nbconvert_exporter": "python",
   "pygments_lexer": "ipython3",
   "version": "3.9.7"
  },
  "orig_nbformat": 4
 },
 "nbformat": 4,
 "nbformat_minor": 2
}
